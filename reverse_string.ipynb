{
 "cells": [
  {
   "cell_type": "code",
   "execution_count": 25,
   "id": "944ded1f",
   "metadata": {},
   "outputs": [
    {
     "data": {
      "text/plain": [
       "'nooM'"
      ]
     },
     "execution_count": 25,
     "metadata": {},
     "output_type": "execute_result"
    }
   ],
   "source": [
    "def reverse_string(str):\n",
    "    return str[ : :-1]\n",
    "    \n",
    "reverse_string(\"Moon\")\n",
    "\n",
    "\n"
   ]
  },
  {
   "cell_type": "code",
   "execution_count": 27,
   "id": "30bcddc7",
   "metadata": {},
   "outputs": [
    {
     "data": {
      "text/plain": [
       "'revliS'"
      ]
     },
     "execution_count": 27,
     "metadata": {},
     "output_type": "execute_result"
    }
   ],
   "source": [
    "def reverse_string(str):\n",
    "    reversed_str = \"\"\n",
    "    for character in str:\n",
    "        reversed_str = character + reversed_str\n",
    "    return reversed_str\n",
    "\n",
    "reverse_string(\"Silver\")"
   ]
  }
 ],
 "metadata": {
  "kernelspec": {
   "display_name": "Python 3",
   "language": "python",
   "name": "python3"
  },
  "language_info": {
   "codemirror_mode": {
    "name": "ipython",
    "version": 3
   },
   "file_extension": ".py",
   "mimetype": "text/x-python",
   "name": "python",
   "nbconvert_exporter": "python",
   "pygments_lexer": "ipython3",
   "version": "3.13.4"
  }
 },
 "nbformat": 4,
 "nbformat_minor": 5
}
