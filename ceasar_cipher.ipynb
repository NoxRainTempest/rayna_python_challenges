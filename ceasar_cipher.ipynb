{
 "cells": [
  {
   "cell_type": "code",
   "execution_count": 77,
   "id": "dd229351",
   "metadata": {},
   "outputs": [],
   "source": [
    "def ceasar_cipher(text: str, shift: int):\n",
    "    text = input(\"What would you like to encode?\")\n",
    "    shift = int(input(\"How much would you like to shift the message?\"))\n",
    "    coded_text = \"\"\n",
    "    for character in text:\n",
    "        if character.isalpha() == True:\n",
    "            letter_position = ord(character)\n",
    "            if \"A\" <= character <= \"Z\":\n",
    "                start_position = ord(\"A\")\n",
    "                shifted_position = (letter_position - start_position + shift) % 26 + start_position\n",
    "            else:\n",
    "                start_position = ord(\"a\")\n",
    "                shifted_position = (letter_position - start_position + shift) % 26 + start_position\n",
    "            coded_text += chr(shifted_position)   \n",
    "        else:\n",
    "            coded_text += character\n",
    "    return coded_text"
   ]
  },
  {
   "cell_type": "code",
   "execution_count": 78,
   "id": "80f90f6f",
   "metadata": {},
   "outputs": [
    {
     "data": {
      "text/plain": [
       "'Ymj rtts bnqq xnsl f xtsl ktw rj, N qtaji dtz qnpj ymj xzs.'"
      ]
     },
     "execution_count": 78,
     "metadata": {},
     "output_type": "execute_result"
    }
   ],
   "source": [
    "ceasar_cipher(text, shift)"
   ]
  },
  {
   "cell_type": "code",
   "execution_count": 79,
   "id": "5a3e0665",
   "metadata": {},
   "outputs": [],
   "source": [
    "\n",
    "def decode_ceasar(text: str, shift: int):\n",
    "    text = input(\"What would you like to decode?\")\n",
    "    shift = int(input(\"What would you like to shift it by?\"))\n",
    "    coded_text = \"\"\n",
    "    for character in text:\n",
    "        if character.isalpha() == True:\n",
    "            letter_position = ord(character)\n",
    "            if \"A\" <= character <= \"Z\":\n",
    "                start_position = ord(\"A\")\n",
    "                shifted_position = (letter_position - start_position - shift) % 26 + start_position\n",
    "            else:\n",
    "                start_position = ord(\"a\")\n",
    "                shifted_position = (letter_position - start_position - shift) % 26 + start_position\n",
    "            coded_text += chr(shifted_position)   \n",
    "        else:\n",
    "            coded_text += character\n",
    "    return coded_text"
   ]
  },
  {
   "cell_type": "code",
   "execution_count": 80,
   "id": "5ef2f130",
   "metadata": {},
   "outputs": [
    {
     "data": {
      "text/plain": [
       "'The moon will sing a song for me, I loved you like the sun.'"
      ]
     },
     "execution_count": 80,
     "metadata": {},
     "output_type": "execute_result"
    }
   ],
   "source": [
    "decode_ceasar(text, shift)"
   ]
  }
 ],
 "metadata": {
  "kernelspec": {
   "display_name": "Python 3",
   "language": "python",
   "name": "python3"
  },
  "language_info": {
   "codemirror_mode": {
    "name": "ipython",
    "version": 3
   },
   "file_extension": ".py",
   "mimetype": "text/x-python",
   "name": "python",
   "nbconvert_exporter": "python",
   "pygments_lexer": "ipython3",
   "version": "3.13.4"
  }
 },
 "nbformat": 4,
 "nbformat_minor": 5
}
