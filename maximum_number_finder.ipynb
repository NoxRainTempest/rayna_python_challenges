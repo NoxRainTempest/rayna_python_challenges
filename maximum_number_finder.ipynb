{
 "cells": [
  {
   "cell_type": "code",
   "execution_count": 1,
   "id": "d0a913b0",
   "metadata": {},
   "outputs": [
    {
     "data": {
      "text/plain": [
       "11.3"
      ]
     },
     "execution_count": 1,
     "metadata": {},
     "output_type": "execute_result"
    }
   ],
   "source": [
    "def find_max(values: int | float):\n",
    "    max = 0\n",
    "    for value in values:\n",
    "        if value > max:\n",
    "            max = value\n",
    "        else:\n",
    "            continue\n",
    "    return max\n",
    "\n",
    "find_max([4, 2, 5.6, 7, 11.3, 1])\n"
   ]
  },
  {
   "cell_type": "code",
   "execution_count": 6,
   "id": "83832f74",
   "metadata": {},
   "outputs": [
    {
     "data": {
      "text/plain": [
       "11.3"
      ]
     },
     "execution_count": 6,
     "metadata": {},
     "output_type": "execute_result"
    }
   ],
   "source": [
    "def find_max(values: int |float):\n",
    "    max = 0\n",
    "    index = 0\n",
    "    while index < len(values):\n",
    "        if max < values[index]:\n",
    "            max = values[index]\n",
    "        index += 1\n",
    "    return max\n",
    "\n",
    "find_max([4, 2, 5.6, 7, 11.3, 1])"
   ]
  }
 ],
 "metadata": {
  "kernelspec": {
   "display_name": "Python 3",
   "language": "python",
   "name": "python3"
  },
  "language_info": {
   "codemirror_mode": {
    "name": "ipython",
    "version": 3
   },
   "file_extension": ".py",
   "mimetype": "text/x-python",
   "name": "python",
   "nbconvert_exporter": "python",
   "pygments_lexer": "ipython3",
   "version": "3.13.4"
  }
 },
 "nbformat": 4,
 "nbformat_minor": 5
}
