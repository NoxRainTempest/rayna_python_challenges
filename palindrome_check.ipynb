{
 "cells": [
  {
   "cell_type": "code",
   "execution_count": 1,
   "id": "02e1ff90",
   "metadata": {},
   "outputs": [
    {
     "data": {
      "text/plain": [
       "\"It's a palindrome!\""
      ]
     },
     "execution_count": 1,
     "metadata": {},
     "output_type": "execute_result"
    }
   ],
   "source": [
    "def is_palindrome(str):\n",
    "    str = str.lower().strip()\n",
    "    reverse_str = str[::-1]\n",
    "    if str == reverse_str:\n",
    "        return \"It's a palindrome!\"\n",
    "    else:\n",
    "        return False\n",
    "\n",
    "is_palindrome(\"RaceCar\")"
   ]
  }
 ],
 "metadata": {
  "kernelspec": {
   "display_name": "Python 3",
   "language": "python",
   "name": "python3"
  },
  "language_info": {
   "codemirror_mode": {
    "name": "ipython",
    "version": 3
   },
   "file_extension": ".py",
   "mimetype": "text/x-python",
   "name": "python",
   "nbconvert_exporter": "python",
   "pygments_lexer": "ipython3",
   "version": "3.13.4"
  }
 },
 "nbformat": 4,
 "nbformat_minor": 5
}
